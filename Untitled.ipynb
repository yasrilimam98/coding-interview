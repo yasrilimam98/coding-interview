{
 "cells": [
  {
   "cell_type": "code",
   "execution_count": 23,
   "id": "23f78a53",
   "metadata": {},
   "outputs": [
    {
     "name": "stdout",
     "output_type": "stream",
     "text": [
      "10\n"
     ]
    }
   ],
   "source": [
    "arrA=[1,2,3,4,-10]\n",
    "print(sum(arrA,10))"
   ]
  },
  {
   "cell_type": "code",
   "execution_count": 24,
   "id": "866df779",
   "metadata": {},
   "outputs": [
    {
     "name": "stdout",
     "output_type": "stream",
     "text": [
      "6\n"
     ]
    }
   ],
   "source": [
    "arrB=[-2,1,-3,4,-1,2,1,-5,4]\n",
    "print(sum(arrB,5))"
   ]
  },
  {
   "cell_type": "code",
   "execution_count": 25,
   "id": "0703319b",
   "metadata": {},
   "outputs": [
    {
     "name": "stdout",
     "output_type": "stream",
     "text": [
      "10\n"
     ]
    }
   ],
   "source": [
    "arrC=[-1, 10]\n",
    "print(sum(arrC,1))"
   ]
  },
  {
   "cell_type": "code",
   "execution_count": null,
   "id": "ad0c4769",
   "metadata": {},
   "outputs": [],
   "source": []
  }
 ],
 "metadata": {
  "kernelspec": {
   "display_name": "Python [conda env:ysrl]",
   "language": "python",
   "name": "conda-env-ysrl-py"
  },
  "language_info": {
   "codemirror_mode": {
    "name": "ipython",
    "version": 3
   },
   "file_extension": ".py",
   "mimetype": "text/x-python",
   "name": "python",
   "nbconvert_exporter": "python",
   "pygments_lexer": "ipython3",
   "version": "3.7.6"
  }
 },
 "nbformat": 4,
 "nbformat_minor": 5
}
