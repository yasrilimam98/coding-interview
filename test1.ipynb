{
 "cells": [
  {
   "cell_type": "code",
   "execution_count": 32,
   "id": "e50ef56b",
   "metadata": {},
   "outputs": [
    {
     "name": "stdout",
     "output_type": "stream",
     "text": [
      "Hasil sum 10\n",
      "Urutan  [1, 2, 3, 4]\n"
     ]
    }
   ],
   "source": [
    "def arr(A):\n",
    "    maks = 0\n",
    "    maksAkhir = 0\n",
    "    start = end = 0\n",
    "    beg = 0\n",
    "    for i in range(len(A)):\n",
    "        maksAkhir = maksAkhir + A[i]\n",
    "        if maksAkhir < 0:\n",
    "            maksAkhir = 0        \n",
    "            beg = i + 1\n",
    "        if maks < maksAkhir:\n",
    "            maks = maksAkhir\n",
    "            start = beg\n",
    "            end = i\n",
    "    print(\"Hasil sum\", maks)\n",
    "    print(\"Urutan \", A[start: end + 1])\n",
    "if __name__ == '__main__':\n",
    "    A = [1,2,3,4, -10]\n",
    "#     A = [-2, 1, -3, 4, -1, 2, 1, -5, 4]\n",
    "#     A = [-1, 10]\n",
    "    arr(A)"
   ]
  },
  {
   "cell_type": "code",
   "execution_count": null,
   "id": "98cf807b",
   "metadata": {},
   "outputs": [],
   "source": []
  },
  {
   "cell_type": "code",
   "execution_count": null,
   "id": "ec8864c3",
   "metadata": {},
   "outputs": [],
   "source": []
  }
 ],
 "metadata": {
  "kernelspec": {
   "display_name": "Python [conda env:ysrl]",
   "language": "python",
   "name": "conda-env-ysrl-py"
  },
  "language_info": {
   "codemirror_mode": {
    "name": "ipython",
    "version": 3
   },
   "file_extension": ".py",
   "mimetype": "text/x-python",
   "name": "python",
   "nbconvert_exporter": "python",
   "pygments_lexer": "ipython3",
   "version": "3.7.6"
  }
 },
 "nbformat": 4,
 "nbformat_minor": 5
}
