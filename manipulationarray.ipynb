{
 "cells": [
  {
   "cell_type": "code",
   "execution_count": 26,
   "id": "41bc838b",
   "metadata": {},
   "outputs": [
    {
     "name": "stdout",
     "output_type": "stream",
     "text": [
      "10\n"
     ]
    },
    {
     "data": {
      "text/plain": [
       "[-10, 1, 2, 3, 4]"
      ]
     },
     "execution_count": 26,
     "metadata": {},
     "output_type": "execute_result"
    }
   ],
   "source": [
    "arrA=[1,2,3,4,-10]\n",
    "print(sum(arrA,10))\n",
    "sorted(arrA)"
   ]
  },
  {
   "cell_type": "code",
   "execution_count": 27,
   "id": "90b53c64",
   "metadata": {},
   "outputs": [
    {
     "name": "stdout",
     "output_type": "stream",
     "text": [
      "6\n"
     ]
    },
    {
     "data": {
      "text/plain": [
       "[-5, -3, -2, -1, 1, 1, 2, 4, 4]"
      ]
     },
     "execution_count": 27,
     "metadata": {},
     "output_type": "execute_result"
    }
   ],
   "source": [
    "arrB=[-2,1,-3,4,-1,2,1,-5,4]\n",
    "print(sum(arrB,5))\n",
    "sorted(arrB)"
   ]
  },
  {
   "cell_type": "code",
   "execution_count": 28,
   "id": "dc2d6e99",
   "metadata": {},
   "outputs": [
    {
     "name": "stdout",
     "output_type": "stream",
     "text": [
      "10\n"
     ]
    },
    {
     "data": {
      "text/plain": [
       "[-1, 10]"
      ]
     },
     "execution_count": 28,
     "metadata": {},
     "output_type": "execute_result"
    }
   ],
   "source": [
    "arrC=[-1, 10]\n",
    "print(sum(arrC,1))\n",
    "sorted(arrC)"
   ]
  },
  {
   "cell_type": "code",
   "execution_count": 31,
   "id": "e50ef56b",
   "metadata": {},
   "outputs": [
    {
     "name": "stdout",
     "output_type": "stream",
     "text": [
      "Hasil sum 10\n",
      "Urutan  [1, 2, 3, 4]\n"
     ]
    }
   ],
   "source": [
    "def arr(A):\n",
    "    maks = 0\n",
    "    maksAkhir = 0\n",
    "    start = end = 0\n",
    "    beg = 0\n",
    "    for i in range(len(A)):\n",
    "        maksAkhir = maksAkhir + A[i]\n",
    "        if maksAkhir < 0:\n",
    "            maksAkhir = 0        \n",
    "            beg = i + 1\n",
    "        if maks < maksAkhir:\n",
    "            maks = maksAkhir\n",
    "            start = beg\n",
    "            end = i\n",
    "    print(\"Hasil sum\", maks)\n",
    "    print(\"Urutan \", A[start: end + 1])\n",
    "if __name__ == '__main__':\n",
    "    A = [1,2,3,4, -10]\n",
    "#     A = [-2, 1, -3, 4, -1, 2, 1, -5, 4]\n",
    "#     A = [-1, 10]\n",
    "    arr(A)"
   ]
  },
  {
   "cell_type": "code",
   "execution_count": null,
   "id": "ef3403a6",
   "metadata": {},
   "outputs": [],
   "source": []
  }
 ],
 "metadata": {
  "kernelspec": {
   "display_name": "Python [conda env:ysrl]",
   "language": "python",
   "name": "conda-env-ysrl-py"
  },
  "language_info": {
   "codemirror_mode": {
    "name": "ipython",
    "version": 3
   },
   "file_extension": ".py",
   "mimetype": "text/x-python",
   "name": "python",
   "nbconvert_exporter": "python",
   "pygments_lexer": "ipython3",
   "version": "3.7.6"
  }
 },
 "nbformat": 4,
 "nbformat_minor": 5
}
